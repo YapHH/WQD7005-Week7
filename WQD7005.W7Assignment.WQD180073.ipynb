{
 "cells": [
  {
   "cell_type": "markdown",
   "metadata": {},
   "source": [
    "WQD7005 Data Mining\n",
    "Week 7 Online Assessment (8th May 2020)\n",
    "\n",
    "Yap Hui Hsing, WQD180073 (17039525/2)\n",
    "\n",
    "Team member: Har Wai San, WQD180025 (17051470/1)\n"
   ]
  },
  {
   "cell_type": "markdown",
   "metadata": {},
   "source": [
    "## 0. Import Lib"
   ]
  },
  {
   "cell_type": "code",
   "execution_count": 1,
   "metadata": {},
   "outputs": [],
   "source": [
    "import pandas as pd\n",
    "import numpy as np"
   ]
  },
  {
   "cell_type": "markdown",
   "metadata": {},
   "source": [
    "## 1. Data Exploration\n",
    "### 1.1 Import the dataset"
   ]
  },
  {
   "cell_type": "code",
   "execution_count": 2,
   "metadata": {
    "scrolled": true
   },
   "outputs": [
    {
     "name": "stdout",
     "output_type": "stream",
     "text": [
      "(69682, 11)\n"
     ]
    }
   ],
   "source": [
    "# Read data from file 'Survey_2016.xlsx' \n",
    "df = pd.read_csv('output.(6 May).csv', names=['Date','Sector_Number','Sector_Name','Stock_Code','Stock_Name','Ref','Open','Last','Change','Change_%', 'Volume'])\n",
    "print(df.shape)"
   ]
  },
  {
   "cell_type": "code",
   "execution_count": 3,
   "metadata": {
    "scrolled": false
   },
   "outputs": [
    {
     "data": {
      "text/html": [
       "<div>\n",
       "<style scoped>\n",
       "    .dataframe tbody tr th:only-of-type {\n",
       "        vertical-align: middle;\n",
       "    }\n",
       "\n",
       "    .dataframe tbody tr th {\n",
       "        vertical-align: top;\n",
       "    }\n",
       "\n",
       "    .dataframe thead th {\n",
       "        text-align: right;\n",
       "    }\n",
       "</style>\n",
       "<table border=\"1\" class=\"dataframe\">\n",
       "  <thead>\n",
       "    <tr style=\"text-align: right;\">\n",
       "      <th></th>\n",
       "      <th>Date</th>\n",
       "      <th>Sector_Number</th>\n",
       "      <th>Sector_Name</th>\n",
       "      <th>Stock_Code</th>\n",
       "      <th>Stock_Name</th>\n",
       "      <th>Ref</th>\n",
       "      <th>Open</th>\n",
       "      <th>Last</th>\n",
       "      <th>Change</th>\n",
       "      <th>Change_%</th>\n",
       "      <th>Volume</th>\n",
       "    </tr>\n",
       "  </thead>\n",
       "  <tbody>\n",
       "    <tr>\n",
       "      <th>0</th>\n",
       "      <td>3/13/2020</td>\n",
       "      <td>1</td>\n",
       "      <td>Bursa Malaysia Bond Islamic  Stocks</td>\n",
       "      <td>0400GA</td>\n",
       "      <td>DIN040000223</td>\n",
       "      <td>102.20</td>\n",
       "      <td>101.80</td>\n",
       "      <td>101.80</td>\n",
       "      <td>-0.40</td>\n",
       "      <td>-0.39</td>\n",
       "      <td>1</td>\n",
       "    </tr>\n",
       "    <tr>\n",
       "      <th>1</th>\n",
       "      <td>3/13/2020</td>\n",
       "      <td>1</td>\n",
       "      <td>Bursa Malaysia Bond Islamic  Stocks</td>\n",
       "      <td>0400GC</td>\n",
       "      <td>DIN042300721</td>\n",
       "      <td>101.80</td>\n",
       "      <td>0.00</td>\n",
       "      <td>0.00</td>\n",
       "      <td>0.00</td>\n",
       "      <td>0.00</td>\n",
       "      <td>0</td>\n",
       "    </tr>\n",
       "    <tr>\n",
       "      <th>2</th>\n",
       "      <td>3/13/2020</td>\n",
       "      <td>1</td>\n",
       "      <td>Bursa Malaysia Bond Islamic  Stocks</td>\n",
       "      <td>0400GB</td>\n",
       "      <td>DIN045801028</td>\n",
       "      <td>104.50</td>\n",
       "      <td>104.50</td>\n",
       "      <td>104.50</td>\n",
       "      <td>0.00</td>\n",
       "      <td>0.00</td>\n",
       "      <td>1</td>\n",
       "    </tr>\n",
       "    <tr>\n",
       "      <th>3</th>\n",
       "      <td>3/13/2020</td>\n",
       "      <td>1</td>\n",
       "      <td>Bursa Malaysia Bond Islamic  Stocks</td>\n",
       "      <td>0401GA</td>\n",
       "      <td>IHS046000824</td>\n",
       "      <td>99.50</td>\n",
       "      <td>0.00</td>\n",
       "      <td>0.00</td>\n",
       "      <td>0.00</td>\n",
       "      <td>0.00</td>\n",
       "      <td>0</td>\n",
       "    </tr>\n",
       "    <tr>\n",
       "      <th>4</th>\n",
       "      <td>3/13/2020</td>\n",
       "      <td>2</td>\n",
       "      <td>Bursa Malaysia Closed End Fund  Stocks</td>\n",
       "      <td>5108</td>\n",
       "      <td>ICAP</td>\n",
       "      <td>2.07</td>\n",
       "      <td>2.05</td>\n",
       "      <td>1.99</td>\n",
       "      <td>-0.08</td>\n",
       "      <td>-3.86</td>\n",
       "      <td>917</td>\n",
       "    </tr>\n",
       "  </tbody>\n",
       "</table>\n",
       "</div>"
      ],
      "text/plain": [
       "        Date  Sector_Number                             Sector_Name  \\\n",
       "0  3/13/2020              1     Bursa Malaysia Bond Islamic  Stocks   \n",
       "1  3/13/2020              1     Bursa Malaysia Bond Islamic  Stocks   \n",
       "2  3/13/2020              1     Bursa Malaysia Bond Islamic  Stocks   \n",
       "3  3/13/2020              1     Bursa Malaysia Bond Islamic  Stocks   \n",
       "4  3/13/2020              2  Bursa Malaysia Closed End Fund  Stocks   \n",
       "\n",
       "  Stock_Code    Stock_Name     Ref    Open    Last  Change  Change_%  Volume  \n",
       "0     0400GA  DIN040000223  102.20  101.80  101.80   -0.40     -0.39       1  \n",
       "1     0400GC  DIN042300721  101.80    0.00    0.00    0.00      0.00       0  \n",
       "2     0400GB  DIN045801028  104.50  104.50  104.50    0.00      0.00       1  \n",
       "3     0401GA  IHS046000824   99.50    0.00    0.00    0.00      0.00       0  \n",
       "4       5108          ICAP    2.07    2.05    1.99   -0.08     -3.86     917  "
      ]
     },
     "execution_count": 3,
     "metadata": {},
     "output_type": "execute_result"
    }
   ],
   "source": [
    "# Using .head() method to view the first few records of the data set\n",
    "df.head()"
   ]
  },
  {
   "cell_type": "code",
   "execution_count": 4,
   "metadata": {},
   "outputs": [
    {
     "data": {
      "text/plain": [
       "Date              object\n",
       "Sector_Number      int64\n",
       "Sector_Name       object\n",
       "Stock_Code        object\n",
       "Stock_Name        object\n",
       "Ref              float64\n",
       "Open             float64\n",
       "Last             float64\n",
       "Change           float64\n",
       "Change_%         float64\n",
       "Volume             int64\n",
       "dtype: object"
      ]
     },
     "execution_count": 4,
     "metadata": {},
     "output_type": "execute_result"
    }
   ],
   "source": [
    "# using the dtypes() method to display the different datatypes available\n",
    "df.dtypes"
   ]
  },
  {
   "cell_type": "markdown",
   "metadata": {},
   "source": [
    "### 1.2 Descriptive Dataset"
   ]
  },
  {
   "cell_type": "code",
   "execution_count": 5,
   "metadata": {
    "scrolled": true
   },
   "outputs": [
    {
     "data": {
      "text/html": [
       "<div>\n",
       "<style scoped>\n",
       "    .dataframe tbody tr th:only-of-type {\n",
       "        vertical-align: middle;\n",
       "    }\n",
       "\n",
       "    .dataframe tbody tr th {\n",
       "        vertical-align: top;\n",
       "    }\n",
       "\n",
       "    .dataframe thead th {\n",
       "        text-align: right;\n",
       "    }\n",
       "</style>\n",
       "<table border=\"1\" class=\"dataframe\">\n",
       "  <thead>\n",
       "    <tr style=\"text-align: right;\">\n",
       "      <th></th>\n",
       "      <th>Sector_Number</th>\n",
       "      <th>Ref</th>\n",
       "      <th>Open</th>\n",
       "      <th>Last</th>\n",
       "      <th>Change</th>\n",
       "      <th>Change_%</th>\n",
       "      <th>Volume</th>\n",
       "    </tr>\n",
       "  </thead>\n",
       "  <tbody>\n",
       "    <tr>\n",
       "      <th>count</th>\n",
       "      <td>69682.000000</td>\n",
       "      <td>69682.000000</td>\n",
       "      <td>69682.000000</td>\n",
       "      <td>69682.000000</td>\n",
       "      <td>69682.000000</td>\n",
       "      <td>69682.000000</td>\n",
       "      <td>6.968200e+04</td>\n",
       "    </tr>\n",
       "    <tr>\n",
       "      <th>mean</th>\n",
       "      <td>11.055409</td>\n",
       "      <td>0.958261</td>\n",
       "      <td>0.693096</td>\n",
       "      <td>0.694439</td>\n",
       "      <td>0.000349</td>\n",
       "      <td>1.529059</td>\n",
       "      <td>2.199110e+04</td>\n",
       "    </tr>\n",
       "    <tr>\n",
       "      <th>std</th>\n",
       "      <td>5.194647</td>\n",
       "      <td>5.981821</td>\n",
       "      <td>4.273031</td>\n",
       "      <td>4.266857</td>\n",
       "      <td>0.369414</td>\n",
       "      <td>18.927120</td>\n",
       "      <td>1.158542e+05</td>\n",
       "    </tr>\n",
       "    <tr>\n",
       "      <th>min</th>\n",
       "      <td>1.000000</td>\n",
       "      <td>0.005000</td>\n",
       "      <td>0.000000</td>\n",
       "      <td>0.000000</td>\n",
       "      <td>-95.410000</td>\n",
       "      <td>-97.560000</td>\n",
       "      <td>0.000000e+00</td>\n",
       "    </tr>\n",
       "    <tr>\n",
       "      <th>25%</th>\n",
       "      <td>5.000000</td>\n",
       "      <td>0.025000</td>\n",
       "      <td>0.000000</td>\n",
       "      <td>0.000000</td>\n",
       "      <td>0.000000</td>\n",
       "      <td>0.000000</td>\n",
       "      <td>0.000000e+00</td>\n",
       "    </tr>\n",
       "    <tr>\n",
       "      <th>50%</th>\n",
       "      <td>11.000000</td>\n",
       "      <td>0.120000</td>\n",
       "      <td>0.045000</td>\n",
       "      <td>0.050000</td>\n",
       "      <td>0.000000</td>\n",
       "      <td>0.000000</td>\n",
       "      <td>1.760000e+02</td>\n",
       "    </tr>\n",
       "    <tr>\n",
       "      <th>75%</th>\n",
       "      <td>16.000000</td>\n",
       "      <td>0.480000</td>\n",
       "      <td>0.350000</td>\n",
       "      <td>0.355000</td>\n",
       "      <td>0.005000</td>\n",
       "      <td>0.590000</td>\n",
       "      <td>5.520000e+03</td>\n",
       "    </tr>\n",
       "    <tr>\n",
       "      <th>max</th>\n",
       "      <td>20.000000</td>\n",
       "      <td>141.000000</td>\n",
       "      <td>141.000000</td>\n",
       "      <td>141.000000</td>\n",
       "      <td>4.000000</td>\n",
       "      <td>1400.000000</td>\n",
       "      <td>5.031527e+06</td>\n",
       "    </tr>\n",
       "  </tbody>\n",
       "</table>\n",
       "</div>"
      ],
      "text/plain": [
       "       Sector_Number           Ref          Open          Last        Change  \\\n",
       "count   69682.000000  69682.000000  69682.000000  69682.000000  69682.000000   \n",
       "mean       11.055409      0.958261      0.693096      0.694439      0.000349   \n",
       "std         5.194647      5.981821      4.273031      4.266857      0.369414   \n",
       "min         1.000000      0.005000      0.000000      0.000000    -95.410000   \n",
       "25%         5.000000      0.025000      0.000000      0.000000      0.000000   \n",
       "50%        11.000000      0.120000      0.045000      0.050000      0.000000   \n",
       "75%        16.000000      0.480000      0.350000      0.355000      0.005000   \n",
       "max        20.000000    141.000000    141.000000    141.000000      4.000000   \n",
       "\n",
       "           Change_%        Volume  \n",
       "count  69682.000000  6.968200e+04  \n",
       "mean       1.529059  2.199110e+04  \n",
       "std       18.927120  1.158542e+05  \n",
       "min      -97.560000  0.000000e+00  \n",
       "25%        0.000000  0.000000e+00  \n",
       "50%        0.000000  1.760000e+02  \n",
       "75%        0.590000  5.520000e+03  \n",
       "max     1400.000000  5.031527e+06  "
      ]
     },
     "execution_count": 5,
     "metadata": {},
     "output_type": "execute_result"
    }
   ],
   "source": [
    "# Generate descriptive statistics that summarize of all observed features and labels \n",
    "# Numeric columns\n",
    "df.describe(include=[np.number])"
   ]
  },
  {
   "cell_type": "code",
   "execution_count": 6,
   "metadata": {},
   "outputs": [
    {
     "data": {
      "text/html": [
       "<div>\n",
       "<style scoped>\n",
       "    .dataframe tbody tr th:only-of-type {\n",
       "        vertical-align: middle;\n",
       "    }\n",
       "\n",
       "    .dataframe tbody tr th {\n",
       "        vertical-align: top;\n",
       "    }\n",
       "\n",
       "    .dataframe thead th {\n",
       "        text-align: right;\n",
       "    }\n",
       "</style>\n",
       "<table border=\"1\" class=\"dataframe\">\n",
       "  <thead>\n",
       "    <tr style=\"text-align: right;\">\n",
       "      <th></th>\n",
       "      <th>Date</th>\n",
       "      <th>Sector_Name</th>\n",
       "      <th>Stock_Code</th>\n",
       "      <th>Stock_Name</th>\n",
       "    </tr>\n",
       "  </thead>\n",
       "  <tbody>\n",
       "    <tr>\n",
       "      <th>count</th>\n",
       "      <td>69682</td>\n",
       "      <td>69682</td>\n",
       "      <td>69682</td>\n",
       "      <td>69682</td>\n",
       "    </tr>\n",
       "    <tr>\n",
       "      <th>unique</th>\n",
       "      <td>36</td>\n",
       "      <td>20</td>\n",
       "      <td>2075</td>\n",
       "      <td>2077</td>\n",
       "    </tr>\n",
       "    <tr>\n",
       "      <th>top</th>\n",
       "      <td>3/13/2020</td>\n",
       "      <td>Bursa Malaysia Industrial Products &amp; Services ...</td>\n",
       "      <td>3026</td>\n",
       "      <td>CHINAETF-MYR</td>\n",
       "    </tr>\n",
       "    <tr>\n",
       "      <th>freq</th>\n",
       "      <td>2016</td>\n",
       "      <td>14210</td>\n",
       "      <td>72</td>\n",
       "      <td>36</td>\n",
       "    </tr>\n",
       "  </tbody>\n",
       "</table>\n",
       "</div>"
      ],
      "text/plain": [
       "             Date                                        Sector_Name  \\\n",
       "count       69682                                              69682   \n",
       "unique         36                                                 20   \n",
       "top     3/13/2020  Bursa Malaysia Industrial Products & Services ...   \n",
       "freq         2016                                              14210   \n",
       "\n",
       "       Stock_Code    Stock_Name  \n",
       "count       69682         69682  \n",
       "unique       2075          2077  \n",
       "top          3026  CHINAETF-MYR  \n",
       "freq           72            36  "
      ]
     },
     "execution_count": 6,
     "metadata": {},
     "output_type": "execute_result"
    }
   ],
   "source": [
    "# Object columns\n",
    "df.describe(include=[np.object])"
   ]
  },
  {
   "cell_type": "code",
   "execution_count": 7,
   "metadata": {},
   "outputs": [
    {
     "data": {
      "text/plain": [
       "Date                36\n",
       "Sector_Number       20\n",
       "Sector_Name         20\n",
       "Stock_Code        2075\n",
       "Stock_Name        2077\n",
       "Ref               1417\n",
       "Open              1407\n",
       "Last              1402\n",
       "Change             276\n",
       "Change_%          2975\n",
       "Volume           19232\n",
       "dtype: int64"
      ]
     },
     "execution_count": 7,
     "metadata": {},
     "output_type": "execute_result"
    }
   ],
   "source": [
    "#Count Unique value in all dataset columns\n",
    "df.nunique()"
   ]
  },
  {
   "cell_type": "code",
   "execution_count": 8,
   "metadata": {},
   "outputs": [
    {
     "data": {
      "text/plain": [
       "array([ 1,  2,  3,  4,  5,  6,  7,  8,  9, 10, 11, 12, 13, 14, 15, 16, 17,\n",
       "       18, 19, 20], dtype=int64)"
      ]
     },
     "execution_count": 8,
     "metadata": {},
     "output_type": "execute_result"
    }
   ],
   "source": [
    "df['Sector_Number'].unique()"
   ]
  },
  {
   "cell_type": "code",
   "execution_count": 9,
   "metadata": {},
   "outputs": [
    {
     "data": {
      "text/plain": [
       "array(['Bursa Malaysia Bond Islamic  Stocks',\n",
       "       'Bursa Malaysia Closed End Fund  Stocks',\n",
       "       'Bursa Malaysia Construction  Stocks',\n",
       "       'Bursa Malaysia Consumer Products & Services  Stocks',\n",
       "       'Bursa Malaysia Energy  Stocks',\n",
       "       'Bursa Malaysia Exchange Traded Fund-bond  Stocks',\n",
       "       'Bursa Malaysia Exchange Traded Fund-commodity  Stocks',\n",
       "       'Bursa Malaysia Exchange Traded Fund-equity  Stocks',\n",
       "       'Bursa Malaysia Financial Services  Stocks',\n",
       "       'Bursa Malaysia Health Care  Stocks',\n",
       "       'Bursa Malaysia Industrial Products & Services  Stocks',\n",
       "       'Bursa Malaysia Plantation  Stocks',\n",
       "       'Bursa Malaysia Property  Stocks',\n",
       "       'Bursa Malaysia Real Estate Investment Trusts  Stocks',\n",
       "       'Bursa Malaysia Special Purpose Acquisition Company  Stocks',\n",
       "       'Bursa Malaysia Structured Warrants  Stocks',\n",
       "       'Bursa Malaysia Technology  Stocks',\n",
       "       'Bursa Malaysia Telecommunications & Media  Stocks',\n",
       "       'Bursa Malaysia Transportation & Logistics  Stocks',\n",
       "       'Bursa Malaysia Utilities  Stocks'], dtype=object)"
      ]
     },
     "execution_count": 9,
     "metadata": {},
     "output_type": "execute_result"
    }
   ],
   "source": [
    "df['Sector_Name'].unique()"
   ]
  },
  {
   "cell_type": "code",
   "execution_count": 10,
   "metadata": {},
   "outputs": [
    {
     "data": {
      "text/plain": [
       "array(['0400GA', '0400GC', '0400GB', ..., '06509G', '318285', '16661'],\n",
       "      dtype=object)"
      ]
     },
     "execution_count": 10,
     "metadata": {},
     "output_type": "execute_result"
    }
   ],
   "source": [
    "df['Stock_Code'].unique()"
   ]
  },
  {
   "cell_type": "code",
   "execution_count": 11,
   "metadata": {},
   "outputs": [
    {
     "data": {
      "text/plain": [
       "array(['DIN040000223', 'DIN042300721', 'DIN045801028', ..., 'FBMKLCI-C9G',\n",
       "       'GENTINGC85', 'INARI-C61'], dtype=object)"
      ]
     },
     "execution_count": 11,
     "metadata": {},
     "output_type": "execute_result"
    }
   ],
   "source": [
    "df['Stock_Name'].unique()"
   ]
  },
  {
   "cell_type": "markdown",
   "metadata": {},
   "source": [
    "## 2. Data Cleaning"
   ]
  },
  {
   "cell_type": "markdown",
   "metadata": {},
   "source": [
    "### 2.1 Check for missing values"
   ]
  },
  {
   "cell_type": "code",
   "execution_count": 12,
   "metadata": {},
   "outputs": [
    {
     "data": {
      "text/plain": [
       "Date             0\n",
       "Sector_Number    0\n",
       "Sector_Name      0\n",
       "Stock_Code       0\n",
       "Stock_Name       0\n",
       "Ref              0\n",
       "Open             0\n",
       "Last             0\n",
       "Change           0\n",
       "Change_%         0\n",
       "Volume           0\n",
       "dtype: int64"
      ]
     },
     "execution_count": 12,
     "metadata": {},
     "output_type": "execute_result"
    }
   ],
   "source": [
    "# check on the missing value\n",
    "df.isnull().sum() \n",
    "# Output shows there is no missing value in the data"
   ]
  },
  {
   "cell_type": "code",
   "execution_count": 13,
   "metadata": {},
   "outputs": [
    {
     "data": {
      "text/html": [
       "<div>\n",
       "<style scoped>\n",
       "    .dataframe tbody tr th:only-of-type {\n",
       "        vertical-align: middle;\n",
       "    }\n",
       "\n",
       "    .dataframe tbody tr th {\n",
       "        vertical-align: top;\n",
       "    }\n",
       "\n",
       "    .dataframe thead th {\n",
       "        text-align: right;\n",
       "    }\n",
       "</style>\n",
       "<table border=\"1\" class=\"dataframe\">\n",
       "  <thead>\n",
       "    <tr style=\"text-align: right;\">\n",
       "      <th></th>\n",
       "      <th>Date</th>\n",
       "      <th>Sector_Number</th>\n",
       "      <th>Sector_Name</th>\n",
       "      <th>Stock_Code</th>\n",
       "      <th>Stock_Name</th>\n",
       "      <th>Ref</th>\n",
       "      <th>Open</th>\n",
       "      <th>Last</th>\n",
       "      <th>Change</th>\n",
       "      <th>Change_%</th>\n",
       "      <th>Volume</th>\n",
       "    </tr>\n",
       "  </thead>\n",
       "  <tbody>\n",
       "    <tr>\n",
       "      <th>0</th>\n",
       "      <td>True</td>\n",
       "      <td>True</td>\n",
       "      <td>True</td>\n",
       "      <td>True</td>\n",
       "      <td>True</td>\n",
       "      <td>True</td>\n",
       "      <td>True</td>\n",
       "      <td>True</td>\n",
       "      <td>True</td>\n",
       "      <td>True</td>\n",
       "      <td>True</td>\n",
       "    </tr>\n",
       "    <tr>\n",
       "      <th>1</th>\n",
       "      <td>True</td>\n",
       "      <td>True</td>\n",
       "      <td>True</td>\n",
       "      <td>True</td>\n",
       "      <td>True</td>\n",
       "      <td>True</td>\n",
       "      <td>True</td>\n",
       "      <td>True</td>\n",
       "      <td>True</td>\n",
       "      <td>True</td>\n",
       "      <td>True</td>\n",
       "    </tr>\n",
       "    <tr>\n",
       "      <th>2</th>\n",
       "      <td>True</td>\n",
       "      <td>True</td>\n",
       "      <td>True</td>\n",
       "      <td>True</td>\n",
       "      <td>True</td>\n",
       "      <td>True</td>\n",
       "      <td>True</td>\n",
       "      <td>True</td>\n",
       "      <td>True</td>\n",
       "      <td>True</td>\n",
       "      <td>True</td>\n",
       "    </tr>\n",
       "    <tr>\n",
       "      <th>3</th>\n",
       "      <td>True</td>\n",
       "      <td>True</td>\n",
       "      <td>True</td>\n",
       "      <td>True</td>\n",
       "      <td>True</td>\n",
       "      <td>True</td>\n",
       "      <td>True</td>\n",
       "      <td>True</td>\n",
       "      <td>True</td>\n",
       "      <td>True</td>\n",
       "      <td>True</td>\n",
       "    </tr>\n",
       "    <tr>\n",
       "      <th>4</th>\n",
       "      <td>True</td>\n",
       "      <td>True</td>\n",
       "      <td>True</td>\n",
       "      <td>True</td>\n",
       "      <td>True</td>\n",
       "      <td>True</td>\n",
       "      <td>True</td>\n",
       "      <td>True</td>\n",
       "      <td>True</td>\n",
       "      <td>True</td>\n",
       "      <td>True</td>\n",
       "    </tr>\n",
       "  </tbody>\n",
       "</table>\n",
       "</div>"
      ],
      "text/plain": [
       "   Date  Sector_Number  Sector_Name  Stock_Code  Stock_Name   Ref  Open  Last  \\\n",
       "0  True           True         True        True        True  True  True  True   \n",
       "1  True           True         True        True        True  True  True  True   \n",
       "2  True           True         True        True        True  True  True  True   \n",
       "3  True           True         True        True        True  True  True  True   \n",
       "4  True           True         True        True        True  True  True  True   \n",
       "\n",
       "   Change  Change_%  Volume  \n",
       "0    True      True    True  \n",
       "1    True      True    True  \n",
       "2    True      True    True  \n",
       "3    True      True    True  \n",
       "4    True      True    True  "
      ]
     },
     "execution_count": 13,
     "metadata": {},
     "output_type": "execute_result"
    }
   ],
   "source": [
    "# check on the missing value\n",
    "df.notnull().head()"
   ]
  }
 ],
 "metadata": {
  "kernelspec": {
   "display_name": "Python 3",
   "language": "python",
   "name": "python3"
  },
  "language_info": {
   "codemirror_mode": {
    "name": "ipython",
    "version": 3
   },
   "file_extension": ".py",
   "mimetype": "text/x-python",
   "name": "python",
   "nbconvert_exporter": "python",
   "pygments_lexer": "ipython3",
   "version": "3.7.1"
  }
 },
 "nbformat": 4,
 "nbformat_minor": 2
}
